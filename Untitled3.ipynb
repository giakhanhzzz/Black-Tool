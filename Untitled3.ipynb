{
  "nbformat": 4,
  "nbformat_minor": 0,
  "metadata": {
    "colab": {
      "provenance": [],
      "authorship_tag": "ABX9TyNTFn/XUT3FjGZbnCgzLm9F"
    },
    "kernelspec": {
      "name": "python3",
      "display_name": "Python 3"
    },
    "language_info": {
      "name": "python"
    }
  },
  "cells": [
    {
      "cell_type": "markdown",
      "source": [
        "Bài 1. Tạo ba lớp, Person có 2 thuộc tính: name, age, Employee (Nhân viên) có 2 thuộc tính:\n",
        "emp_id, salary và Student (Sinh viên) có 2 thuộc tính: student_id , grade . Sử dụng nhiều kế\n",
        "thừa để tạo một lớp “PersonInfo” kế thừa từ cả “Nhân viên” và “Sinh viên”. Thêm các thuộc\n",
        "tính và phương thức cụ thể cho từng lớp.\n",
        "Ví dụ: PersonInfo(\"John\", 30, \"E123\", 50000, \"S456\", \"A\")"
      ],
      "metadata": {
        "id": "vW4o-3gZ1kW-"
      }
    },
    {
      "cell_type": "code",
      "execution_count": 1,
      "metadata": {
        "id": "PbGOx4fyxVa4",
        "outputId": "55c6807d-d1f6-404c-b1b5-14a88545e7a0",
        "colab": {
          "base_uri": "https://localhost:8080/"
        }
      },
      "outputs": [
        {
          "output_type": "stream",
          "name": "stdout",
          "text": [
            "Tên: John\n",
            "Tuổi: 30\n",
            "Mã nhân viên: E123\n",
            "Lương: 50000\n",
            "Mã sinh viên: S456\n",
            "Điểm số: A\n"
          ]
        }
      ],
      "source": [
        "from abc import ABC, abstractmethod\n",
        "\n",
        "# Lớp trừu tượng Nguoi (Person)\n",
        "class Nguoi(ABC):\n",
        "    def __init__(self, ten, tuoi):\n",
        "        self.ten = ten  # Tên của người\n",
        "        self.tuoi = tuoi  # Tuổi của người\n",
        "\n",
        "    @abstractmethod\n",
        "    def hien_thi_thong_tin_nguoi(self):\n",
        "        # Phương thức trừu tượng yêu cầu các lớp con phải triển khai\n",
        "        pass\n",
        "\n",
        "# Lớp trừu tượng NhanVien (Employee)\n",
        "class NhanVien(ABC):\n",
        "    def __init__(self, ma_nv, luong):\n",
        "        self.ma_nv = ma_nv  # Mã nhân viên\n",
        "        self.luong = luong  # Lương của nhân viên\n",
        "\n",
        "    @abstractmethod\n",
        "    def hien_thi_thong_tin_nv(self):\n",
        "        # Phương thức trừu tượng yêu cầu các lớp con phải triển khai\n",
        "        pass\n",
        "\n",
        "# Lớp trừu tượng SinhVien (Student)\n",
        "class SinhVien(ABC):\n",
        "    def __init__(self, ma_sv, diem_so):\n",
        "        self.ma_sv = ma_sv  # Mã sinh viên\n",
        "        self.diem_so = diem_so  # Điểm số/grade của sinh viên\n",
        "\n",
        "    @abstractmethod\n",
        "    def hien_thi_thong_tin_sv(self):\n",
        "        # Phương thức trừu tượng yêu cầu các lớp con phải triển khai\n",
        "        pass\n",
        "\n",
        "# Lớp ThongTinNguoi kế thừa từ 3 lớp trừu tượng trên\n",
        "class ThongTinNguoi(Nguoi, NhanVien, SinhVien):\n",
        "    def __init__(self, ten, tuoi, ma_nv, luong, ma_sv, diem_so):\n",
        "        # Gọi constructor của từng lớp cha\n",
        "        Nguoi.__init__(self, ten, tuoi)\n",
        "        NhanVien.__init__(self, ma_nv, luong)\n",
        "        SinhVien.__init__(self, ma_sv, diem_so)\n",
        "\n",
        "    # Triển khai phương thức của lớp Nguoi\n",
        "    def hien_thi_thong_tin_nguoi(self):\n",
        "        return f\"Tên: {self.ten}\\nTuổi: {self.tuoi}\"\n",
        "\n",
        "    # Triển khai phương thức của lớp NhanVien\n",
        "    def hien_thi_thong_tin_nv(self):\n",
        "        return f\"Mã nhân viên: {self.ma_nv}\\nLương: {self.luong}\"\n",
        "\n",
        "    # Triển khai phương thức của lớp SinhVien\n",
        "    def hien_thi_thong_tin_sv(self):\n",
        "        return f\"Mã sinh viên: {self.ma_sv}\\nĐiểm số: {self.diem_so}\"\n",
        "\n",
        "    # Hiển thị tổng hợp thông tin từ cả 3 lớp\n",
        "    def hien_thi_toan_bo_thong_tin(self):\n",
        "        return (\n",
        "            f\"{self.hien_thi_thong_tin_nguoi()}\\n\"\n",
        "            f\"{self.hien_thi_thong_tin_nv()}\\n\"\n",
        "            f\"{self.hien_thi_thong_tin_sv()}\"\n",
        "        )\n",
        "\n",
        "# Ví dụ sử dụng lớp ThongTinNguoi\n",
        "if __name__ == \"__main__\":\n",
        "    # Tạo một đối tượng với thông tin cụ thể\n",
        "    nguoi = ThongTinNguoi(\"John\", 30, \"E123\", 50000, \"S456\", \"A\")\n",
        "\n",
        "    # In ra toàn bộ thông tin của đối tượng\n",
        "    print(nguoi.hien_thi_toan_bo_thong_tin())\n"
      ]
    },
    {
      "cell_type": "markdown",
      "source": [],
      "metadata": {
        "id": "CX8MkF-V61H2"
      }
    },
    {
      "cell_type": "code",
      "source": [
        "from abc import ABC, abstractmethod\n",
        "\n",
        "#Lớp phương thức Hình học, không có thuộc tính chung nên chỉ đơn thuần là lớp trừu tượng nên code như sau\n",
        "class Hinhhoc(ABC):\n",
        "  @abstractmethod\n",
        "  def chuvi(self):\n",
        "    pass\n",
        "\n",
        "  @abstractmethod\n",
        "  def dientich(self):\n",
        "    pass\n",
        "\n",
        "class Hinhchunhat(Hinhhoc):\n",
        "  def __init__(self, chieudai, chieurong):\n",
        "    self.chieudai = chieudai\n",
        "    self.chieurong = chieurong\n",
        "\n",
        "  def chuvi(self):\n",
        "    return (self.chieudai+ self.chieurong)*2\n",
        "\n",
        "  def dientich(self):\n",
        "    return self.chieudai*self.chieurong\n",
        "\n",
        "class Hinhtron(Hinhhoc):\n",
        "  def __init__(self,bankinh):\n",
        "    self.bankinh=bankinh\n",
        "\n",
        "  def chuvi(self):\n",
        "    return self.bankinh*2*3.14\n",
        "\n",
        "  def dientich(self):\n",
        "    return self.bankinh*self.bankinh*3.14\n",
        "\n",
        "class Hinhtamgiac(Hinhhoc):\n",
        "  def __init__(self, canh1, canh2, canh3):\n",
        "    self.canh1=canh1\n",
        "    self.canh2=canh2\n",
        "    self.canh3=canh3\n",
        "    if self.canh1 + self.canh1 <= self.canh3 or \\\n",
        "    self.canh1 + self.canh3 <= self.canh2 or \\\n",
        "    self.canh2 + self.canh3 <= self.canh1:\n",
        "     raise ValueError(\"Các cạnh không tạo thành tam giác hợp lệ!\")\n",
        "\n",
        "  def chuvi(self):\n",
        "    return self.canh1+self.canh2+self.canh3\n",
        "\n",
        "  #diện tích tam giác dùng công thức heron khi chỉ có số đo 3 cạnh\n",
        "  def dientich(self):\n",
        "    p=self.chuvi()/2\n",
        "    return (p*(p-self.canh1)*(p-self.canh2)*(p-self.canh3))**0.5\n",
        "\n",
        "# Tạo danh sách các hình học\n",
        "danh_sach_hinh = [\n",
        "    Hinhtron(5),\n",
        "    Hinhchunhat(10, 5),\n",
        "    Hinhtamgiac(3, 4, 5)\n",
        "]\n",
        "\n",
        "# Hiển thị chu vi và diện tích cho tất cả các hình\n",
        "for hinh in danh_sach_hinh:\n",
        "    print(f\"Chu vi: {round(hinh.chuvi(), 2)}, Diện tích: {round(hinh.dientich(), 2)}\")\n",
        "\n",
        "\n",
        "\n",
        "\n",
        "\n"
      ],
      "metadata": {
        "id": "5RB3Ru-A61xe",
        "outputId": "bad54e33-9a61-4113-ec3e-254c5da82d75",
        "colab": {
          "base_uri": "https://localhost:8080/"
        }
      },
      "execution_count": 11,
      "outputs": [
        {
          "output_type": "stream",
          "name": "stdout",
          "text": [
            "Chu vi: 31.4, Diện tích: 78.5\n",
            "Chu vi: 30, Diện tích: 50\n",
            "Chu vi: 12, Diện tích: 6.0\n"
          ]
        }
      ]
    }
  ]
}